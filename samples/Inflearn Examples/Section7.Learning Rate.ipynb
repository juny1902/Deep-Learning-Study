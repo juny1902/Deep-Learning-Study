{
 "cells": [
  {
   "cell_type": "code",
   "execution_count": 32,
   "metadata": {},
   "outputs": [
    {
     "name": "stdout",
     "output_type": "stream",
     "text": [
      "Learning Rate : 1.5000000000\n",
      "--------------------\n",
      "0 10.878298\n",
      "1000 15.617288\n",
      "2000 19.779015\n",
      "3000 nan\n",
      "4000 nan\n",
      "5000 nan\n",
      "6000 nan\n",
      "7000 nan\n",
      "8000 nan\n",
      "9000 nan\n",
      "10000 nan\n",
      "--------------------\n",
      "Prediction :  [0 0 0]\n",
      "Accuracy :  0.0\n"
     ]
    }
   ],
   "source": [
    "# Learning Rate ?\n",
    "\n",
    "import tensorflow as tf\n",
    "A = 1.5\n",
    "x_data = [[1,2,1],[1,3,2],[1,3,4],[1,5,5],[1,7,5],[1,2,5],[1,6,6],[1,7,7]]\n",
    "y_data = [[0,0,1],[0,0,1],[0,0,1],[0,1,0],[0,1,0],[0,1,0],[1,0,0],[1,0,0]]\n",
    "x_test = [[2,1,1],[3,1,2],[3,3,4]]\n",
    "y_test = [[0,0,1],[0,0,1],[0,0,1]]\n",
    "X = tf.placeholder(\"float\",[None,3])\n",
    "Y = tf.placeholder(\"float\",[None,3])\n",
    "W = tf.Variable(tf.random_normal([3,3]))\n",
    "b = tf.Variable(tf.random_normal([3]))\n",
    "\n",
    "hypothesis = tf.nn.softmax(tf.matmul(X,W)+b)\n",
    "cost = tf.reduce_mean(-tf.reduce_sum(Y*tf.log(hypothesis),axis=1))\n",
    "optimizer = tf.train.GradientDescentOptimizer(learning_rate=A).minimize(cost)\n",
    "\n",
    "prediction = tf.arg_max(hypothesis,1)\n",
    "is_correct = tf.equal(prediction,tf.arg_max(Y,1))\n",
    "accuracy = tf.reduce_mean(tf.cast(is_correct,tf.float32))\n",
    "\n",
    "with tf.Session() as sess:\n",
    "    sess.run(tf.global_variables_initializer())\n",
    "    print(\"Learning Rate : {:.10f}\".format(A))\n",
    "    print(\"-\"*20)\n",
    "    for step in range(10001):\n",
    "        if(step%1000==0):\n",
    "            cost_val, W_val, _ = sess.run([cost,W,optimizer],feed_dict={X:x_data,Y:y_data})\n",
    "            print(step,cost_val)\n",
    "    print(\"-\"*20)\n",
    "    print(\"Prediction : \", sess.run(prediction,feed_dict={X:x_test}))\n",
    "    print(\"Accuracy : \", sess.run(accuracy,feed_dict={X:x_test,Y:y_test}))"
   ]
  },
  {
   "cell_type": "code",
   "execution_count": null,
   "metadata": {
    "collapsed": true
   },
   "outputs": [],
   "source": []
  }
 ],
 "metadata": {
  "kernelspec": {
   "display_name": "Python 3",
   "language": "python",
   "name": "python3"
  },
  "language_info": {
   "codemirror_mode": {
    "name": "ipython",
    "version": 3
   },
   "file_extension": ".py",
   "mimetype": "text/x-python",
   "name": "python",
   "nbconvert_exporter": "python",
   "pygments_lexer": "ipython3",
   "version": "3.6.3"
  }
 },
 "nbformat": 4,
 "nbformat_minor": 2
}
