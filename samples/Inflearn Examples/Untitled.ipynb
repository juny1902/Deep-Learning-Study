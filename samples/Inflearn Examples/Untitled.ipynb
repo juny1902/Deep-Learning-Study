{
 "cells": [
  {
   "cell_type": "code",
   "execution_count": 26,
   "metadata": {},
   "outputs": [
    {
     "name": "stdout",
     "output_type": "stream",
     "text": [
      "1\n",
      "(7,)\n",
      "0.0 1.0 6.0\n",
      "[2. 3. 4.] [4. 5.]\n",
      "[0. 1.] [3. 4. 5. 6.]\n",
      "2\n",
      "(4, 3)\n"
     ]
    }
   ],
   "source": [
    "# Tensor manipulation\n",
    "import numpy as np\n",
    "\n",
    "# 1D Array (Vector)\n",
    "t = np.array([0.,1.,2.,3.,4.,5.,6.])\n",
    "print(t.ndim) # rank\n",
    "print(t.shape)\n",
    "print(t[0],t[1],t[-1])\n",
    "print(t[2:5],t[4:-1])\n",
    "print(t[:2],t[3:])\n",
    "\n",
    "# 2D Array\n",
    "t = np.array([[1.,2.,3.],[4.,5.,6.],[7.,8.,9.],[10.,11.,12.]])\n",
    "print(t.ndim) # rank\n",
    "print(t.shape) # shape of matrix (Rows,Cols)"
   ]
  },
  {
   "cell_type": "code",
   "execution_count": 44,
   "metadata": {},
   "outputs": [
    {
     "name": "stdout",
     "output_type": "stream",
     "text": [
      "[4]\n",
      "[2 2]\n",
      "[2 1]\n",
      "[1 2 3 4]\n",
      "[[5. 5.]]\n",
      "[[4. 4.]]\n"
     ]
    }
   ],
   "source": [
    "import tensorflow as tf\n",
    "sess = tf.Session()\n",
    "t1 = tf.constant([1,2,3,4])\n",
    "print(tf.shape(t1).eval(session = sess))\n",
    "\n",
    "t2 = tf.constant([[1,2],[3,4]]) # Rank : 2, shape = (2,2)\n",
    "print(tf.shape(t2).eval(session = sess))\n",
    "\n",
    "t3 = tf.constant([[1],[3]]) # Rank : 2, shape = (2, 1)\n",
    "\n",
    "t4 = tf.matmul(t2,t3) # (2,2) * (2,1) = (2,1)\n",
    "print(tf.shape(t4).eval(session = sess))\n",
    "\n",
    "t3= tf.constant ([[[[1,2,3,4],[5,6,7,8],[9,10,11,12]],[[13,14,15,16],[17,18,19,20],[21,22,23,24]]]])\n",
    "print(tf.shape(t3).eval(session = sess)) # Rank : 4, Shape : (1, 2, 3, 4)\n",
    "\n",
    "# Warning ! : Broadcasting\n",
    "\n",
    "matrix1 = tf.constant([[3.,3.]])\n",
    "matrix2 = tf.constant([[2.,2.]])\n",
    "print((matrix1 + matrix2).eval(session=sess))\n",
    "\n",
    "matrix1 = tf.constant([[3.,3.]])\n",
    "matrix2 = tf.constant([1.])\n",
    "print((matrix1 + matrix2).eval(session=sess)) # Opration between different shapes\n"
   ]
  },
  {
   "cell_type": "code",
   "execution_count": null,
   "metadata": {
    "collapsed": true
   },
   "outputs": [],
   "source": []
  }
 ],
 "metadata": {
  "kernelspec": {
   "display_name": "Python 3",
   "language": "python",
   "name": "python3"
  },
  "language_info": {
   "codemirror_mode": {
    "name": "ipython",
    "version": 3
   },
   "file_extension": ".py",
   "mimetype": "text/x-python",
   "name": "python",
   "nbconvert_exporter": "python",
   "pygments_lexer": "ipython3",
   "version": "3.6.3"
  }
 },
 "nbformat": 4,
 "nbformat_minor": 2
}
