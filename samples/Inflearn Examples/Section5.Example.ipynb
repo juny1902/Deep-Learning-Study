{
 "cells": [
  {
   "cell_type": "code",
   "execution_count": null,
   "metadata": {},
   "outputs": [
    {
     "name": "stdout",
     "output_type": "stream",
     "text": [
      "0 0.5796629\n",
      "1000 0.53985614\n",
      "2000 0.49966523\n",
      "3000 0.6263987\n",
      "4000 0.4685726\n",
      "5000 0.47614288\n",
      "6000 0.5011877\n",
      "7000 0.59356356\n"
     ]
    }
   ],
   "source": [
    "import tensorflow as tf\n",
    "import numpy as np\n",
    "\n",
    "# Create Filename Queue - Files can be multiple.\n",
    "filename_queue = tf.train.string_input_producer(['data-03-diabetes.csv'],shuffle=False,name = 'filename_queue')\n",
    "\n",
    "# Create 'Reader' and read file from queue by reader.\n",
    "reader = tf.TextLineReader()\n",
    "key, value = reader.read(filename_queue)\n",
    "\n",
    "# Determine record type by setting default record.\n",
    "record_defaults = [[0.],[0.],[0.],[0.],[0.],[0.],[0.],[0.],[0.]]\n",
    "\n",
    "# and decode file.\n",
    "xy = tf.decode_csv(value,record_defaults=record_defaults)\n",
    "\n",
    "\n",
    "train_x_batch, train_y_batch = tf.train.batch([xy[0:-1],xy[-1:]],batch_size=100)\n",
    "\n",
    "# X contains 8 Variables.\n",
    "X = tf.placeholder(tf.float32, shape=[None,8])\n",
    "Y = tf.placeholder(tf.float32, shape=[None,1])\n",
    "W = tf.Variable(tf.random_normal([8,1]),name=\"weight\")\n",
    "b = tf.Variable(tf.random_normal([1]),name=\"bias\")\n",
    "\n",
    "hypothesis = tf.sigmoid(tf.matmul(X,W)+b)\n",
    "\n",
    "cost = -tf.reduce_mean(Y*tf.log(hypothesis)+(1-Y)*tf.log(1-hypothesis))\n",
    "\n",
    "train = tf.train.GradientDescentOptimizer(learning_rate = 0.01).minimize(cost)\n",
    "\n",
    "predicted = tf.cast(hypothesis > 0.5, dtype = tf.float32)\n",
    "accuracy = tf.reduce_mean(tf.cast(tf.equal(predicted,Y),dtype=tf.float32))\n",
    "\n",
    "with tf.Session() as sess:\n",
    "    sess.run(tf.global_variables_initializer())\n",
    "    \n",
    "    coord = tf.train.Coordinator()\n",
    "    threads = tf.train.start_queue_runners(sess=sess, coord=coord)\n",
    "    \n",
    "    for step in range(10001):\n",
    "        x_batch,y_batch = sess.run([train_x_batch,train_y_batch])\n",
    "        cost_val, _ = sess.run([cost,train],feed_dict={X:x_batch, Y:y_batch})\n",
    "        if step%1000 ==0:\n",
    "            print(step,cost_val)\n",
    "    h, c, a = sess.run([hypothesis, predicted, accuracy], feed_dict={X: x_batch, Y: y_batch})\n",
    "    print(\"\\nHypothesis : \\n\", h, \"\\nCorrect (Y) : \\n\", c, \"\\nAccuracy : \", a )\n",
    "                    \n",
    "coord.request_stop()\n",
    "coord.join(threads)\n"
   ]
  },
  {
   "cell_type": "code",
   "execution_count": null,
   "metadata": {
    "collapsed": true
   },
   "outputs": [],
   "source": []
  },
  {
   "cell_type": "code",
   "execution_count": null,
   "metadata": {
    "collapsed": true
   },
   "outputs": [],
   "source": []
  }
 ],
 "metadata": {
  "kernelspec": {
   "display_name": "Python 3",
   "language": "python",
   "name": "python3"
  },
  "language_info": {
   "codemirror_mode": {
    "name": "ipython",
    "version": 3
   },
   "file_extension": ".py",
   "mimetype": "text/x-python",
   "name": "python",
   "nbconvert_exporter": "python",
   "pygments_lexer": "ipython3",
   "version": "3.6.3"
  }
 },
 "nbformat": 4,
 "nbformat_minor": 2
}
