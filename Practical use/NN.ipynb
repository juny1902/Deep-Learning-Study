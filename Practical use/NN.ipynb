{
 "cells": [
  {
   "cell_type": "code",
   "execution_count": 29,
   "metadata": {},
   "outputs": [
    {
     "name": "stdout",
     "output_type": "stream",
     "text": [
      "1 0.6847701\n",
      "1001 0.43231708\n",
      "2001 0.42375103\n",
      "3001 0.42105427\n",
      "4001 0.41976967\n",
      "5001 0.41898698\n",
      "6001 0.41848627\n",
      "7001 0.41806692\n",
      "8001 0.41781124\n",
      "9001 0.4175961\n",
      "10001 0.41743588\n",
      "예측값 :  [0 0 1 0 1]\n",
      "실제값 :  [0 0 1 0 1]\n",
      "정확도 : 100.00\n",
      "[[0.00261517 0.99738485]\n",
      " [0.05698628 0.9430137 ]\n",
      " [0.3469428  0.65305716]\n",
      " [0.10577639 0.89422363]\n",
      " [0.00510629 0.9948938 ]]\n"
     ]
    }
   ],
   "source": [
    "import tensorflow as tf\n",
    "# Is that bird ?\n",
    "\n",
    "# [날개, 털, 부리] \n",
    "x_data = [[1,1,1],[1,0,0],[0,1,0],[1,0,1],[0,1,1]]\n",
    "# [조류, 포유류]\n",
    "y_data = [[1,0],[1,0],[0,1],[1,0],[0,1]]\n",
    "\n",
    "X = tf.placeholder(tf.float32,[None,3])\n",
    "Y = tf.placeholder(tf.float32,[None,2])\n",
    "\n",
    "W = tf.Variable(tf.random_uniform([3,2],-1.,1.))\n",
    "b = tf.Variable(tf.zeros([2]))\n",
    "\n",
    "L = tf.add(tf.matmul(X,W),b)\n",
    "L = tf.nn.relu(L)\n",
    "\n",
    "cost = tf.reduce_mean(-tf.reduce_sum(Y*tf.log(model),axis=1))\n",
    "optimizer = tf.train.GradientDescentOptimizer(learning_rate = 0.1)\n",
    "train_op = optimizer.minimize(cost)\n",
    "\n",
    "init = tf.global_variables_initializer()\n",
    "sess = tf.Session()\n",
    "sess.run(init)\n",
    "\n",
    "for step in range(10001):\n",
    "    sess.run(train_op,feed_dict={X:x_data,Y:y_data})\n",
    "    if step%1000 == 0:\n",
    "        print(step+1,sess.run(cost,feed_dict={X:x_data,Y:y_data}))\n",
    "    \n",
    "prediction = tf.argmax(model,axis=1)\n",
    "target = tf.argmax(Y,axis=1)   \n",
    "print('예측값 : ',sess.run(prediction,feed_dict={X:x_data}))\n",
    "print('실제값 : ',sess.run(target,feed_dict={Y:y_data}))\n",
    "\n",
    "is_correct = tf.equal(prediction, target)\n",
    "accuracy = tf.reduce_mean(tf.cast(is_correct,tf.float32))\n",
    "\n",
    "print('정확도 : {:.2f}'.format(sess.run(accuracy*100,feed_dict={X:x_data,Y:y_data})))\n",
    "\n",
    "test_data = [[0,1,0],[0,0,0],[1,1,0],[0,0,1],[0,1,1]] \n",
    "print(sess.run(model,feed_dict={X:test_data}))"
   ]
  },
  {
   "cell_type": "code",
   "execution_count": null,
   "metadata": {
    "collapsed": true
   },
   "outputs": [],
   "source": []
  },
  {
   "cell_type": "code",
   "execution_count": null,
   "metadata": {
    "collapsed": true
   },
   "outputs": [],
   "source": []
  }
 ],
 "metadata": {
  "kernelspec": {
   "display_name": "Python 3",
   "language": "python",
   "name": "python3"
  },
  "language_info": {
   "codemirror_mode": {
    "name": "ipython",
    "version": 3
   },
   "file_extension": ".py",
   "mimetype": "text/x-python",
   "name": "python",
   "nbconvert_exporter": "python",
   "pygments_lexer": "ipython3",
   "version": "3.6.3"
  }
 },
 "nbformat": 4,
 "nbformat_minor": 2
}
