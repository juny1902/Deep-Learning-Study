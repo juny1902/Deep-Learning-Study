{
 "cells": [
  {
   "cell_type": "code",
   "execution_count": 3,
   "metadata": {},
   "outputs": [
    {
     "name": "stderr",
     "output_type": "stream",
     "text": [
      "C:\\Users\\msi\\Anaconda3\\lib\\site-packages\\h5py\\__init__.py:34: FutureWarning: Conversion of the second argument of issubdtype from `float` to `np.floating` is deprecated. In future, it will be treated as `np.float64 == np.dtype(float).type`.\n",
      "  from ._conv import register_converters as _register_converters\n"
     ]
    },
    {
     "name": "stdout",
     "output_type": "stream",
     "text": [
      "Extracting ./mnist/data\\train-images-idx3-ubyte.gz\n",
      "Extracting ./mnist/data\\train-labels-idx1-ubyte.gz\n",
      "Extracting ./mnist/data\\t10k-images-idx3-ubyte.gz\n",
      "Extracting ./mnist/data\\t10k-labels-idx1-ubyte.gz\n",
      "WARNING:tensorflow:From <ipython-input-3-4f953fd32ae7>:31: softmax_cross_entropy_with_logits (from tensorflow.python.ops.nn_ops) is deprecated and will be removed in a future version.\n",
      "Instructions for updating:\n",
      "\n",
      "Future major versions of TensorFlow will allow gradients to flow\n",
      "into the labels input on backprop by default.\n",
      "\n",
      "See tf.nn.softmax_cross_entropy_with_logits_v2.\n",
      "\n",
      "Epoch : 0001, Avg. Cost = 0.333\n",
      "Epoch : 0002, Avg. Cost = 0.100\n",
      "Epoch : 0003, Avg. Cost = 0.071\n",
      "Epoch : 0004, Avg. Cost = 0.055\n",
      "Epoch : 0005, Avg. Cost = 0.043\n",
      "Epoch : 0006, Avg. Cost = 0.036\n",
      "Epoch : 0007, Avg. Cost = 0.032\n",
      "Epoch : 0008, Avg. Cost = 0.026\n",
      "Epoch : 0009, Avg. Cost = 0.024\n",
      "Epoch : 0010, Avg. Cost = 0.021\n",
      "Epoch : 0011, Avg. Cost = 0.018\n",
      "Epoch : 0012, Avg. Cost = 0.016\n",
      "Epoch : 0013, Avg. Cost = 0.015\n",
      "Epoch : 0014, Avg. Cost = 0.013\n",
      "Epoch : 0015, Avg. Cost = 0.013\n",
      "최적화 완료 !\n"
     ]
    },
    {
     "ename": "AttributeError",
     "evalue": "'DataSet' object has no attribute 'image'",
     "output_type": "error",
     "traceback": [
      "\u001b[1;31m---------------------------------------------------------------------------\u001b[0m",
      "\u001b[1;31mAttributeError\u001b[0m                            Traceback (most recent call last)",
      "\u001b[1;32m<ipython-input-3-4f953fd32ae7>\u001b[0m in \u001b[0;36m<module>\u001b[1;34m()\u001b[0m\n\u001b[0;32m     54\u001b[0m \u001b[0maccuracy\u001b[0m \u001b[1;33m=\u001b[0m \u001b[0mtf\u001b[0m\u001b[1;33m.\u001b[0m\u001b[0mreduce_mean\u001b[0m\u001b[1;33m(\u001b[0m\u001b[0mtf\u001b[0m\u001b[1;33m.\u001b[0m\u001b[0mcast\u001b[0m\u001b[1;33m(\u001b[0m\u001b[0mis_correct\u001b[0m\u001b[1;33m,\u001b[0m\u001b[0mtf\u001b[0m\u001b[1;33m.\u001b[0m\u001b[0mfloat32\u001b[0m\u001b[1;33m)\u001b[0m\u001b[1;33m)\u001b[0m\u001b[1;33m\u001b[0m\u001b[0m\n\u001b[0;32m     55\u001b[0m print(\"정확도 : {:f}\".format(sess.run(\n\u001b[1;32m---> 56\u001b[1;33m     accuracy,feed_dict={X:mnist.test.image.reshape(-1,28,28,1),Y:mnist.test.labels,is_training:1}))) # 테스트는 100% 뉴런으로 \n\u001b[0m\u001b[0;32m     57\u001b[0m \u001b[1;33m\u001b[0m\u001b[0m\n\u001b[0;32m     58\u001b[0m \u001b[0mlabels\u001b[0m \u001b[1;33m=\u001b[0m \u001b[0msess\u001b[0m\u001b[1;33m.\u001b[0m\u001b[0mrun\u001b[0m\u001b[1;33m(\u001b[0m\u001b[0mmodel\u001b[0m\u001b[1;33m,\u001b[0m\u001b[0mfeed_dict\u001b[0m\u001b[1;33m=\u001b[0m\u001b[1;33m{\u001b[0m\u001b[0mX\u001b[0m\u001b[1;33m:\u001b[0m\u001b[0mmnist\u001b[0m\u001b[1;33m.\u001b[0m\u001b[0mtest\u001b[0m\u001b[1;33m.\u001b[0m\u001b[0mimages\u001b[0m\u001b[1;33m.\u001b[0m\u001b[0mreshape\u001b[0m\u001b[1;33m(\u001b[0m\u001b[1;33m-\u001b[0m\u001b[1;36m1\u001b[0m\u001b[1;33m,\u001b[0m\u001b[1;36m28\u001b[0m\u001b[1;33m,\u001b[0m\u001b[1;36m28\u001b[0m\u001b[1;33m,\u001b[0m\u001b[1;36m1\u001b[0m\u001b[1;33m)\u001b[0m\u001b[1;33m,\u001b[0m\u001b[0mY\u001b[0m\u001b[1;33m:\u001b[0m\u001b[0mmnist\u001b[0m\u001b[1;33m.\u001b[0m\u001b[0mtest\u001b[0m\u001b[1;33m.\u001b[0m\u001b[0mlabels\u001b[0m\u001b[1;33m,\u001b[0m\u001b[0mkeep_prob\u001b[0m\u001b[1;33m:\u001b[0m\u001b[1;36m1\u001b[0m\u001b[1;33m}\u001b[0m\u001b[1;33m)\u001b[0m\u001b[1;33m\u001b[0m\u001b[0m\n",
      "\u001b[1;31mAttributeError\u001b[0m: 'DataSet' object has no attribute 'image'"
     ]
    }
   ],
   "source": [
    "# CNN Introduction\n",
    "\n",
    "import tensorflow as tf\n",
    "\n",
    "# mnist  샘플 데이터셋 사용\n",
    "from tensorflow.examples.tutorials.mnist import input_data\n",
    "mnist = input_data.read_data_sets(\"./mnist/data\",one_hot = True)\n",
    "\n",
    "# Placeholder 선언, X의 shape 는 28, 28, 1\n",
    "# Y의 shape는 (None, 클래스의 수)\n",
    "X = tf.placeholder(tf.float32,[None,28,28,1])\n",
    "Y = tf.placeholder(tf.float32,[None,10])\n",
    "# Dropout 정의를 위한 placeholder 할당\n",
    "keep_prob = tf.placeholder(tf.float32)\n",
    "\n",
    "\n",
    "# 계층 1 정의\n",
    "W1 = tf.Variable(tf.random_normal([3,3,1,32],stddev=0.01) # 3x3 크기의 프레임이 한칸 씩 움직이는 32개의 커널 생성\n",
    "L1 = tf.nn.conv2d(X,W1,strides=[1,1,1,1],padding='SAME') # CNN 구현을 위한 컨벌루션 프레임 생성 (스트라이드 : 1)\n",
    "L1 = tf.nn.relu(L1) # 활성화 함수\n",
    "L1 = tf.nn.max_pool(L1,ksize=[1,2,2,1],strides=[1,2,2,1],padding='SAME') # 풀링 계층 생성\n",
    "\n",
    "W2 = tf.Variable(tf.random_normal([3,3,32,64],stddev=0.01)) # \n",
    "L2 = tf.nn.conv2d(L1,W2,strides=[1,1,1,1],padding='SAME')\n",
    "L2 = tf.nn.relu(L2)\n",
    "L2 = tf.nn.max_pool(L2,ksize=[1,2,2,1],strides=[1,2,2,1],padding='SAME')\n",
    "\n",
    "W3 = tf.Variable(tf.random_normal([7*7*64,256],stddev=0.01))\n",
    "L3 = tf.reshape(L2,[-1,7*7*64])\n",
    "L3 = tf.matmul(L3,W3)\n",
    "L3 = tf.nn.relu(L3)\n",
    "L3 = tf.nn.dropout(L3,keep_prob)\n",
    "\n",
    "W4 = tf.Variable(tf.random_normal([256,10],stddev=0.01))\n",
    "model = tf.matmul(L3,W4)\n",
    "\n",
    "cost = tf.reduce_mean(tf.nn.softmax_cross_entropy_with_logits(logits=model,labels=Y))\n",
    "optimizer = tf.train.AdamOptimizer(0.001).minimize(cost)\n",
    "# optimizer = tf.train.RMSPropOptimizer(0.001,0.9).minimize(cost)\n",
    "\n",
    "init = tf.global_variables_initializer()\n",
    "sess = tf.Session()\n",
    "sess.run(init)\n",
    "\n",
    "batch_size = 100\n",
    "total_batch = int(mnist.train.num_examples/batch_size)\n",
    "\n",
    "for epoch in range(15): # 1 epoch = a count of the dataset trained once\n",
    "    total_cost = 0\n",
    "    for i in range(total_batch):\n",
    "        batch_xs, batch_ys = mnist.train.next_batch(batch_size)\n",
    "        batch_xs = batch_xs.reshape(-1,28,28,1)\n",
    "        \n",
    "        _, cost_val = sess.run([optimizer, cost],feed_dict = {X:batch_xs, Y:batch_ys, keep_prob:0.8}) # 훈련은 80%로\n",
    "        total_cost += cost_val\n",
    "    print('Epoch : {:04d}, Avg. Cost = {:.3f}'.format(epoch+1,total_cost/total_batch))\n",
    "print(\"최적화 완료 !\")\n",
    "\n",
    "is_correct = tf.equal(tf.argmax(model,1),tf.argmax(Y,1))\n",
    "accuracy = tf.reduce_mean(tf.cast(is_correct,tf.float32))\n",
    "print(\"정확도 : {:f}\".format(sess.run(\n",
    "    accuracy,feed_dict={X:mnist.test.image.reshape(-1,28,28,1),Y:mnist.test.labels,is_training:1}))) # 테스트는 100% 뉴런으로 \n",
    "\n",
    "labels = sess.run(model,feed_dict={X:mnist.test.images.reshape(-1,28,28,1),Y:mnist.test.labels,keep_prob:1})\n",
    "print(labels)\n",
    "\n",
    "fig = plt.figure()\n",
    "for i in range(10):\n",
    "    subplot = fig.add_subplot(2,5,i+1) #[2x5 graph], plot on the index i+1\n",
    "    subplot.set_xticks([])\n",
    "    subplot.set_yticks([])\n",
    "    subplot.set_title('{:01d}'.format(np.argmax(labels[i])))\n",
    "    subplot.imshow(mnist.test.images[i].reshape((28,28)),cmap=plt.cm.gray_r)\n",
    "plt.show()\n"
   ]
  },
  {
   "cell_type": "code",
   "execution_count": null,
   "metadata": {
    "collapsed": true
   },
   "outputs": [],
   "source": []
  }
 ],
 "metadata": {
  "kernelspec": {
   "display_name": "Python 3",
   "language": "python",
   "name": "python3"
  },
  "language_info": {
   "codemirror_mode": {
    "name": "ipython",
    "version": 3
   },
   "file_extension": ".py",
   "mimetype": "text/x-python",
   "name": "python",
   "nbconvert_exporter": "python",
   "pygments_lexer": "ipython3",
   "version": "3.6.3"
  }
 },
 "nbformat": 4,
 "nbformat_minor": 2
}
