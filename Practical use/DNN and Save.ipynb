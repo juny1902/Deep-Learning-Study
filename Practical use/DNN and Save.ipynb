{
 "cells": [
  {
   "cell_type": "markdown",
   "metadata": {},
   "source": [
    "1. 18/02/04 : tf.reset_default_graph() 추가\n",
    "    - 추가 안할시 Checkpoint 에서 특정 변수를 읽어오지 못함.\n",
    "    \n",
    "2. 18/02/04 : tf.name_scope_() 추가\n",
    "    - 텐서보드 사용하기 위함."
   ]
  },
  {
   "cell_type": "code",
   "execution_count": 16,
   "metadata": {},
   "outputs": [
    {
     "name": "stdout",
     "output_type": "stream",
     "text": [
      "INFO:tensorflow:Restoring parameters from ./model\\dnn.ckpt-1678\n",
      "Step :  1680 3.3449207e-05\n",
      "예측값 :  [0 0 1 0 1]\n",
      "실제값 :  [0 0 1 0 1]\n",
      "정확도: 100.00\n",
      "[[-2.9523623   6.5230474 ]\n",
      " [ 0.          0.        ]\n",
      " [ 0.25665668 -9.495656  ]\n",
      " [-0.4433739  -0.86217356]\n",
      " [-3.9673395   6.938751  ]]\n"
     ]
    }
   ],
   "source": [
    "# Multi Layer Neural Net\n",
    "import tensorflow as tf\n",
    "from tensorflow.examples.tutorials.mnist import input_data\n",
    "\n",
    "import numpy as np\n",
    "# [날개, 털, 부리] \n",
    "x_data = [[1,1,1],[1,0,0],[0,1,0],[1,0,1],[0,1,1]]\n",
    "# [조류, 포유류]\n",
    "y_data = [[1,0],[1,0],[0,1],[1,0],[0,1]]\n",
    "\n",
    "tf.reset_default_graph()\n",
    "global_step = tf.Variable(0,trainable=False,name='global_step')\n",
    "# Updated.\n",
    "increment_global_step = tf.assign_add(global_step,1,name = 'increment_global_step')\n",
    "\n",
    "\n",
    "X = tf.placeholder(tf.float32)\n",
    "Y = tf.placeholder(tf.float32)\n",
    " \n",
    "\n",
    "with tf.name_scope('layer1'):\n",
    "    tf.summary.histogram(\"Weights\",W1)\n",
    "    W1 = tf.Variable(tf.random_uniform([3,10],-1.,1.))\n",
    "    L1 = tf.nn.relu(tf.matmul(X,W1))\n",
    "    \n",
    "with tf.name_scope('layer2'):\n",
    "    W2 = tf.Variable(tf.random_uniform([10,20],-1.,1.))\n",
    "    L2 = tf.nn.relu(tf.matmul(L1,W2))\n",
    "    \n",
    "with tf.name_scope('output'):\n",
    "    W3 = tf.Variable(tf.random_uniform([20,2],-1.,1.))\n",
    "    model = tf.matmul(L2,W3)\n",
    "\n",
    "with tf.name_scope('optimizer'):\n",
    "    cost = tf.reduce_mean(tf.nn.softmax_cross_entropy_with_logits(labels=Y,logits=model))\n",
    "\n",
    "    optimizer = tf.train.AdamOptimizer(learning_rate=0.01)\n",
    "    train_op = optimizer.minimize(cost,global_step=global_step)\n",
    "    \n",
    "    tf.summary.scalar('cost',cost)\n",
    "\n",
    "\n",
    "sess = tf.Session()\n",
    "saver = tf.train.Saver(tf.global_variables()) #저장기 객체 생성\n",
    "\n",
    "ckpt = tf.train.get_checkpoint_state('./model')\n",
    "if ckpt and tf.train.checkpoint_exists(ckpt.model_checkpoint_path):\n",
    "    saver.restore(sess,ckpt.model_checkpoint_path) # 저장된 체크포인트가 있으면 복원\n",
    "else:\n",
    "    sess.run(tf.global_variables_initializer()) # 없으면 초기화\n",
    "\n",
    "merged = tf.summary.merge_all()\n",
    "writer = tf.summary.FileWriter('logs./', sess.graph)\n",
    "    \n",
    "for step in range(1):\n",
    "    sess.run([train_op,increment_global_step],feed_dict={X:x_data,Y:y_data})\n",
    "    if step % 10 == 0:\n",
    "        print(\"Step : \",sess.run(global_step), sess.run(cost,feed_dict = {X:x_data,Y:y_data}))\n",
    "    summary = sess.run(merged,feed_dict={X:x_data,Y:y_data})\n",
    "    writer.add_summary(summary,global_step=sess.run(global_step))\n",
    "\n",
    "saver.save(sess,'./model/dnn.ckpt',global_step=global_step) # 학습 끝난후 파라미터 저장\n",
    "\n",
    "prediction = tf.argmax(model,1)\n",
    "target = tf.argmax(Y,1)\n",
    "print(\"예측값 : \",sess.run(prediction,feed_dict={X:x_data}))\n",
    "print(\"실제값 : \",sess.run(target,feed_dict={Y:y_data}))\n",
    "\n",
    "is_correct= tf.equal(prediction, target)\n",
    "accuracy = tf.reduce_mean(tf.cast(is_correct,tf.float32))\n",
    "print(\"정확도: {:.2f}\".format(sess.run(accuracy*100,feed_dict={X:x_data, Y:y_data})))\n",
    "    \n",
    "test_data = [[0,1,0],[0,0,0],[1,1,0],[0,0,1],[0,1,1]] \n",
    "print(sess.run(model,feed_dict={X:test_data}))\n",
    "                 "
   ]
  },
  {
   "cell_type": "code",
   "execution_count": null,
   "metadata": {
    "collapsed": true
   },
   "outputs": [],
   "source": []
  },
  {
   "cell_type": "code",
   "execution_count": null,
   "metadata": {
    "collapsed": true
   },
   "outputs": [],
   "source": []
  },
  {
   "cell_type": "code",
   "execution_count": null,
   "metadata": {
    "collapsed": true
   },
   "outputs": [],
   "source": []
  }
 ],
 "metadata": {
  "kernelspec": {
   "display_name": "Python 3",
   "language": "python",
   "name": "python3"
  },
  "language_info": {
   "codemirror_mode": {
    "name": "ipython",
    "version": 3
   },
   "file_extension": ".py",
   "mimetype": "text/x-python",
   "name": "python",
   "nbconvert_exporter": "python",
   "pygments_lexer": "ipython3",
   "version": "3.6.3"
  }
 },
 "nbformat": 4,
 "nbformat_minor": 2
}
