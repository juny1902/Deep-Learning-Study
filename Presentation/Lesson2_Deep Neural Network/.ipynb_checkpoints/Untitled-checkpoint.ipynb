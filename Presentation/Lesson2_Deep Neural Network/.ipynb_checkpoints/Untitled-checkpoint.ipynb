{
 "cells": [
  {
   "cell_type": "code",
   "execution_count": 24,
   "metadata": {},
   "outputs": [
    {
     "name": "stdout",
     "output_type": "stream",
     "text": [
      "[0] Cost : 0.00000000000000000000\n",
      "[1000] Cost : 0.00000000000000000000\n",
      "[2000] Cost : 0.00000000000000000000\n",
      "[3000] Cost : 0.00000000000000000000\n",
      "[4000] Cost : 0.00000000000000000000\n",
      "[5000] Cost : 0.00000000000000000000\n",
      "[6000] Cost : 0.00000000000000000000\n",
      "[7000] Cost : 0.00000000000000000000\n",
      "[8000] Cost : 0.00000000000000000000\n",
      "[9000] Cost : 0.00000000000000000000\n",
      "[10000] Cost : 0.00000000000000000000\n",
      "[[ 0.]\n",
      " [ 0.]\n",
      " [ 0.]\n",
      " [ 0.]]\n"
     ]
    }
   ],
   "source": [
    "# DNN Practical Application\n",
    "\n",
    "import tensorflow as tf\n",
    "import numpy as np\n",
    "tf.reset_default_graph()\n",
    "\n",
    "x_train = np.array([[0,0],[0,1],[1,0],[1,1]])\n",
    "y_train = np.array([[0],[1],[1],[0]])\n",
    "\n",
    "X = tf.placeholder(tf.float32,[None,2])\n",
    "Y = tf.placeholder(tf.float32,[None,1])\n",
    "\n",
    "with tf.name_scope('Layer1'):\n",
    "    W1 = tf.Variable(tf.random_normal([2,2],stddev=0.01),name='weight1')\n",
    "    b1 = tf.Variable(tf.zeros([2]),name='bias1')\n",
    "    Layer1 = tf.add(tf.matmul(X,W1),b1)\n",
    "    Layer1 = tf.sigmoid(Layer1)\n",
    "with tf.name_scope('Layer2'):\n",
    "    W2 = tf.Variable(tf.random_normal([2,1],stddev=0.01),name='weight2')\n",
    "    b2 = tf.Variable(tf.zeros([1]),name='bias2')\n",
    "    L2 = tf.add(tf.matmul(Layer1,W2),b2)\n",
    "    L2 = tf.sigmoid(L2)\n",
    "    \n",
    "cost = tf.reduce_mean(tf.nn.softmax_cross_entropy_with_logits(labels=Y,logits=L2))\n",
    "optimizer = tf.train.AdamOptimizer(learning_rate=0.001)\n",
    "train_op = optimizer.minimize(cost)\n",
    "predict = tf.cast(L2 > 0.5,dtype=tf.float32)\n",
    "accuracy = tf.reduce_mean(tf.cast(tf.equal(predict,Y),dtype=tf.float32))\n",
    "\n",
    "sess = tf.Session()\n",
    "init = tf.global_variables_initializer()\n",
    "sess.run(init)\n",
    "\n",
    "\n",
    "for step in range(10001):\n",
    "    sess.run(train_op,feed_dict={X:x_train,Y:y_train})\n",
    "    if step % 1000 == 0:\n",
    "        print(\"[{:d}] Cost : {:.20f}\".format(step,sess.run(cost,feed_dict={X:x_train,Y:y_train})))\n",
    "    \n",
    "    \n",
    "print(sess.run(predict,feed_dict={X:[[0,1],[1,0],[1,1],[0,0]]}))\n",
    "        \n"
   ]
  },
  {
   "cell_type": "code",
   "execution_count": null,
   "metadata": {
    "collapsed": true
   },
   "outputs": [],
   "source": []
  },
  {
   "cell_type": "code",
   "execution_count": null,
   "metadata": {
    "collapsed": true
   },
   "outputs": [],
   "source": []
  }
 ],
 "metadata": {
  "kernelspec": {
   "display_name": "Python 3",
   "language": "python",
   "name": "python3"
  },
  "language_info": {
   "codemirror_mode": {
    "name": "ipython",
    "version": 3
   },
   "file_extension": ".py",
   "mimetype": "text/x-python",
   "name": "python",
   "nbconvert_exporter": "python",
   "pygments_lexer": "ipython3",
   "version": "3.6.3"
  }
 },
 "nbformat": 4,
 "nbformat_minor": 2
}
