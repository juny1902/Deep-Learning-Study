{
 "cells": [
  {
   "cell_type": "code",
   "execution_count": 4,
   "metadata": {},
   "outputs": [
    {
     "name": "stdout",
     "output_type": "stream",
     "text": [
      "Extracting ./mnist/data/train-images-idx3-ubyte.gz\n",
      "Extracting ./mnist/data/train-labels-idx1-ubyte.gz\n",
      "Extracting ./mnist/data/t10k-images-idx3-ubyte.gz\n",
      "Extracting ./mnist/data/t10k-labels-idx1-ubyte.gz\n",
      "Epoch : 0001, Avg.cost : 0.342\n",
      "Epoch : 0002, Avg.cost : 0.109\n",
      "Epoch : 0003, Avg.cost : 0.081\n",
      "Epoch : 0004, Avg.cost : 0.062\n",
      "Epoch : 0005, Avg.cost : 0.051\n",
      "Epoch : 0006, Avg.cost : 0.044\n",
      "Epoch : 0007, Avg.cost : 0.036\n",
      "Epoch : 0008, Avg.cost : 0.032\n",
      "Epoch : 0009, Avg.cost : 0.027\n",
      "Epoch : 0010, Avg.cost : 0.026\n",
      "Epoch : 0011, Avg.cost : 0.021\n",
      "Epoch : 0012, Avg.cost : 0.021\n",
      "Epoch : 0013, Avg.cost : 0.021\n",
      "Epoch : 0014, Avg.cost : 0.017\n",
      "Epoch : 0015, Avg.cost : 0.016\n",
      "최적화 완료 !\n",
      "정확도 : 98.97%\n"
     ]
    }
   ],
   "source": [
    "import tensorflow as tf\n",
    "\n",
    "from tensorflow.examples.tutorials.mnist import input_data\n",
    "mnist = input_data.read_data_sets(\"./mnist/data/\",one_hot=True)\n",
    "\n",
    "X = tf.placeholder(tf.float32,[None,28,28,1]) # 28x28x1(Mono)\n",
    "Y = tf.placeholder(tf.float32,[None,10]) # 0~9\n",
    "keep_prob = tf.placeholder(tf.float32)\n",
    "\n",
    "W1 = tf.Variable(tf.random_normal([3,3,1,32],stddev=0.01))\n",
    "L1 = tf.nn.conv2d(X,W1,strides=[1,1,1,1],padding='SAME')\n",
    "L1 = tf.nn.relu(L1)\n",
    "L1 = tf.nn.max_pool(L1,ksize=[1,2,2,1],strides=[1,2,2,1],padding='SAME')\n",
    "\n",
    "W2 = tf.Variable(tf.random_normal([3,3,32,64],stddev=0.01))\n",
    "L2 = tf.nn.conv2d(L1,W2,strides=[1,1,1,1],padding='SAME')\n",
    "L2 = tf.nn.relu(L2)\n",
    "L2 = tf.nn.max_pool(L2,ksize=[1,2,2,1],strides=[1,2,2,1],padding='SAME')\n",
    "\n",
    "W3 = tf.Variable(tf.random_normal([7*7*64,256],stddev=0.01))\n",
    "L3 = tf.reshape(L2,[-1,7*7*64])\n",
    "L3 = tf.matmul(L3,W3)\n",
    "L3 = tf.nn.relu(L3)\n",
    "L3 = tf.nn.dropout(L3,keep_prob)\n",
    "\n",
    "W4 = tf.Variable(tf.random_normal([256,10],stddev=0.01))\n",
    "model = tf.matmul(L3,W4)\n",
    "\n",
    "cost = tf.reduce_mean(tf.nn.softmax_cross_entropy_with_logits(logits=model,labels=Y))\n",
    "optimizer = tf.train.AdamOptimizer(0.001).minimize(cost)\n",
    "\n",
    "init = tf.global_variables_initializer()\n",
    "sess = tf.Session()\n",
    "sess.run(init)\n",
    "\n",
    "batch_size = 100\n",
    "total_batch = int(mnist.train.num_examples/batch_size)\n",
    "\n",
    "for epoch in range(15):\n",
    "    total_cost = 0\n",
    "    \n",
    "    for i in range(total_batch):\n",
    "        batch_xs, batch_ys = mnist.train.next_batch(batch_size)\n",
    "        batch_xs = batch_xs.reshape(-1,28,28,1)\n",
    "        \n",
    "        _, cost_val = sess.run([optimizer, cost],feed_dict={X:batch_xs,Y:batch_ys,keep_prob:0.7})\n",
    "        total_cost += cost_val\n",
    "        \n",
    "    print('Epoch : {:04d}, Avg.cost : {:.3f}'.format(epoch+1, total_cost/total_batch))\n",
    "    \n",
    "print('최적화 완료 !')\n",
    "\n",
    "is_correct = tf.equal(tf.argmax(model,1),tf.argmax(Y,1))\n",
    "accuracy = tf.reduce_mean(tf.cast(is_correct,tf.float32))\n",
    "print('정확도 : {:.2f}%'.format(100*sess.run(accuracy,\n",
    "        feed_dict={\n",
    "        X:mnist.test.images.reshape(-1,28,28,1),\n",
    "        Y:mnist.test.labels,\n",
    "        keep_prob:1})))"
   ]
  },
  {
   "cell_type": "code",
   "execution_count": null,
   "metadata": {
    "collapsed": true
   },
   "outputs": [],
   "source": []
  }
 ],
 "metadata": {
  "kernelspec": {
   "display_name": "Python 3",
   "language": "python",
   "name": "python3"
  },
  "language_info": {
   "codemirror_mode": {
    "name": "ipython",
    "version": 3
   },
   "file_extension": ".py",
   "mimetype": "text/x-python",
   "name": "python",
   "nbconvert_exporter": "python",
   "pygments_lexer": "ipython3",
   "version": "3.6.3"
  }
 },
 "nbformat": 4,
 "nbformat_minor": 2
}
