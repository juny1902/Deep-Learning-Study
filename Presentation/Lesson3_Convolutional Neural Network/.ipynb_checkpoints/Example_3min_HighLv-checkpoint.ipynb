{
 "cells": [
  {
   "cell_type": "code",
   "execution_count": 4,
   "metadata": {},
   "outputs": [
    {
     "name": "stdout",
     "output_type": "stream",
     "text": [
      "Extracting ./mnist/data/train-images-idx3-ubyte.gz\n",
      "Extracting ./mnist/data/train-labels-idx1-ubyte.gz\n",
      "Extracting ./mnist/data/t10k-images-idx3-ubyte.gz\n",
      "Extracting ./mnist/data/t10k-labels-idx1-ubyte.gz\n",
      "Epoch : 0001, Avg.cost : 0.174\n",
      "Epoch : 0002, Avg.cost : 0.047\n",
      "Epoch : 0003, Avg.cost : 0.029\n",
      "Epoch : 0004, Avg.cost : 0.020\n",
      "Epoch : 0005, Avg.cost : 0.015\n",
      "Epoch : 0006, Avg.cost : 0.013\n",
      "Epoch : 0007, Avg.cost : 0.011\n",
      "Epoch : 0008, Avg.cost : 0.008\n",
      "Epoch : 0009, Avg.cost : 0.011\n",
      "Epoch : 0010, Avg.cost : 0.008\n",
      "Epoch : 0011, Avg.cost : 0.006\n",
      "Epoch : 0012, Avg.cost : 0.008\n",
      "Epoch : 0013, Avg.cost : 0.007\n",
      "Epoch : 0014, Avg.cost : 0.003\n",
      "Epoch : 0015, Avg.cost : 0.006\n",
      "최적화 완료 !\n",
      "정확도 : 98.99%\n"
     ]
    }
   ],
   "source": [
    "import tensorflow as tf\n",
    "\n",
    "from tensorflow.examples.tutorials.mnist import input_data\n",
    "mnist = input_data.read_data_sets(\"./mnist/data/\",one_hot=True)\n",
    "\n",
    "X = tf.placeholder(tf.float32,[None,28,28,1]) # 28x28x1(Mono)\n",
    "Y = tf.placeholder(tf.float32,[None,10]) # 0~9\n",
    "is_training = tf.placeholder(tf.bool)\n",
    "\n",
    "L1 = tf.layers.conv2d(X,32,[3,3]) # 32개의 커널을 가진 윈도우 크기 3x3의 컨벌루션 계층 생성\n",
    "L1 = tf.layers.max_pooling2d(L1,[2,2],[2,2]) # 커널 크기 2x2 의 풀링계층 만들고 슬라이딩시 2칸씩 이동(스트라이드).\n",
    "L1 = tf.layers.dropout(L1,0.7,is_training) # Dropout 적용, 훈련 여부에 따라 해제\n",
    "\n",
    "L2 = tf.layers.conv2d(L1,64,[3,3]) # 64개의 커널을 가진 윈도우 크기 3x3의 컨벌루션 계층 생성\n",
    "L2 = tf.layers.max_pooling2d(L2,[2,2],[2,2]) # 커널 크기 2x2 의 풀링계층을 만들고 슬라이딩시 2칸씩 이동(스트라이드).\n",
    "L2 = tf.layers.dropout(L2,0.7,is_training)\n",
    "\n",
    "L3 = tf.contrib.layers.flatten(L2) # 완전 연결 계층 생성\n",
    "L3 = tf.layers.dense(L3,256,activation=tf.nn.relu) # 256개의 뉴런으로 연결, 활성화 함수는 relu\n",
    "L3 = tf.layers.dropout(L3,0.5,is_training)\n",
    "\n",
    "model = tf.layers.dense(L3,10,activation=None)\n",
    "\n",
    "cost = tf.reduce_mean(tf.nn.softmax_cross_entropy_with_logits_v2(logits=model,labels=Y))\n",
    "optimizer = tf.train.AdamOptimizer(0.001).minimize(cost)\n",
    "\n",
    "init = tf.global_variables_initializer()\n",
    "sess = tf.Session()\n",
    "sess.run(init)\n",
    "\n",
    "batch_size = 100\n",
    "total_batch = int(mnist.train.num_examples/batch_size)\n",
    "\n",
    "for epoch in range(15):\n",
    "    total_cost = 0\n",
    "    \n",
    "    for i in range(total_batch):\n",
    "        batch_xs, batch_ys = mnist.train.next_batch(batch_size)\n",
    "        batch_xs = batch_xs.reshape(-1,28,28,1)\n",
    "        \n",
    "        _, cost_val = sess.run([optimizer, cost],feed_dict={X:batch_xs,Y:batch_ys,is_training:True})\n",
    "        total_cost += cost_val\n",
    "        \n",
    "    print('Epoch : {:04d}, Avg.cost : {:.3f}'.format(epoch+1, total_cost/total_batch))\n",
    "    \n",
    "print('최적화 완료 !')\n",
    "\n",
    "is_correct = tf.equal(tf.argmax(model,1),tf.argmax(Y,1))\n",
    "accuracy = tf.reduce_mean(tf.cast(is_correct,tf.float32))\n",
    "print('정확도 : {:.2f}%'.format(100*sess.run(accuracy,\n",
    "        feed_dict={\n",
    "        X:mnist.test.images.reshape(-1,28,28,1),\n",
    "        Y:mnist.test.labels,\n",
    "        is_training:False})))"
   ]
  },
  {
   "cell_type": "code",
   "execution_count": null,
   "metadata": {
    "collapsed": true
   },
   "outputs": [],
   "source": []
  }
 ],
 "metadata": {
  "kernelspec": {
   "display_name": "Python 3",
   "language": "python",
   "name": "python3"
  },
  "language_info": {
   "codemirror_mode": {
    "name": "ipython",
    "version": 3
   },
   "file_extension": ".py",
   "mimetype": "text/x-python",
   "name": "python",
   "nbconvert_exporter": "python",
   "pygments_lexer": "ipython3",
   "version": "3.6.3"
  }
 },
 "nbformat": 4,
 "nbformat_minor": 2
}
