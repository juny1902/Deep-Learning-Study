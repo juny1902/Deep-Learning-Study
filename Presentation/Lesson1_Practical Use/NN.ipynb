{
 "cells": [
  {
   "cell_type": "code",
   "execution_count": 6,
   "metadata": {},
   "outputs": [
    {
     "name": "stdout",
     "output_type": "stream",
     "text": [
      "Step :  0 , Cost :  0.87216675\n",
      "Step :  100 , Cost :  0.36965302\n",
      "Step :  200 , Cost :  0.36763182\n",
      "Step :  300 , Cost :  0.367128\n",
      "Step :  400 , Cost :  0.36721262\n",
      "Step :  500 , Cost :  0.36702335\n",
      "Step :  600 , Cost :  0.36656722\n",
      "Step :  700 , Cost :  0.366435\n",
      "Step :  800 , Cost :  0.36636993\n",
      "Step :  900 , Cost :  0.36652207\n",
      "Step :  1000 , Cost :  0.36648455\n",
      "예측값 :  조류\n",
      "예측값 :  파충류\n",
      "예측값 :  포유류\n"
     ]
    }
   ],
   "source": [
    "import tensorflow as tf\n",
    "import numpy as np\n",
    "\n",
    "# GPU Memory allocation problem solved.\n",
    "gpu_options = tf.GPUOptions(per_process_gpu_memory_fraction=0.333)\n",
    "sess = tf.Session(config=tf.ConfigProto(gpu_options=gpu_options))\n",
    "\n",
    "# Load data.csv with float type.\n",
    "# ** unpack : Transpose the dataset when 'True'\n",
    "data = np.loadtxt('./data.csv',delimiter=',', unpack=True,dtype=\"float32\")\n",
    "\n",
    "# Extract training data\n",
    "x_train = np.transpose(data[0:6])\n",
    "y_train = np.transpose(data[6:])\n",
    "\n",
    "# Set placeholders to feed(input) something\n",
    "X = tf.placeholder(tf.float32)\n",
    "Y = tf.placeholder(tf.float32)\n",
    "\n",
    "# Set variables to train the model\n",
    "W = tf.Variable(tf.random_uniform([6,3],-1.,1.),name=\"weight\")\n",
    "b = tf.Variable(tf.zeros([3]),name=\"bias\")\n",
    "\n",
    "# Activation function.\n",
    "L = tf.add(tf.matmul(X,W),b) # WX+b\n",
    "L = tf.nn.relu(L) # Activation\n",
    "\n",
    "# Apply softmax to know probability\n",
    "model = tf.nn.softmax(L) \n",
    "\n",
    "# Find distance between predict and label\n",
    "cost = tf.reduce_mean(-tf.reduce_sum(Y*tf.log(model),axis=1)) \n",
    "\n",
    "# Create Optimizer & Optimize the model\n",
    "optimizer = tf.train.AdamOptimizer(learning_rate = 0.1)\n",
    "train_op = optimizer.minimize(cost) # To minimize cost\n",
    "\n",
    "\n",
    "# Create session and initialize\n",
    "sess = tf.Session()\n",
    "sess.run(tf.global_variables_initializer())\n",
    "\n",
    "for step in range(1001):\n",
    "    sess.run(train_op,feed_dict={X:x_train,Y:y_train}) # Train with training dataset\n",
    "    if(step % 100 == 0):\n",
    "        print(\"Step : \", step,\", Cost : \", sess.run(cost,feed_dict={X:x_train,Y:y_train}))\n",
    "        \n",
    "animal_type = [\"포유류\",\"파충류\",\"조류\"]\n",
    "\n",
    "# To test the other animals\n",
    "x_giraffe = np.array([[1,1,0,0,1,0]])\n",
    "x_parrot = np.array([[1,1,0,1,0,1]])\n",
    "x_snake = np.array([[1,0,1,0,0,0]])\n",
    "\n",
    "# Get the index by finding the index of highest probability \n",
    "prediction = tf.argmax(model,axis=1)\n",
    "target = tf.argmax(Y,axis=1)\n",
    "\n",
    "# Get predict for each animal\n",
    "print(\"예측값 : \", animal_type[sess.run(prediction,feed_dict={X:x_parrot})[0]])\n",
    "print(\"예측값 : \", animal_type[sess.run(prediction,feed_dict={X:x_snake})[0]])\n",
    "print(\"예측값 : \", animal_type[sess.run(prediction,feed_dict={X:x_girraffe})[0]])\n"
   ]
  }
 ],
 "metadata": {
  "kernelspec": {
   "display_name": "Python 3",
   "language": "python",
   "name": "python3"
  },
  "language_info": {
   "codemirror_mode": {
    "name": "ipython",
    "version": 3
   },
   "file_extension": ".py",
   "mimetype": "text/x-python",
   "name": "python",
   "nbconvert_exporter": "python",
   "pygments_lexer": "ipython3",
   "version": "3.6.3"
  }
 },
 "nbformat": 4,
 "nbformat_minor": 2
}
